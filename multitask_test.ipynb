{
  "nbformat": 4,
  "nbformat_minor": 0,
  "metadata": {
    "colab": {
      "name": "Multitask_test.ipynb",
      "provenance": []
    },
    "kernelspec": {
      "name": "python3",
      "display_name": "Python 3"
    }
  },
  "cells": [
    {
      "cell_type": "code",
      "metadata": {
        "id": "W7aN2pOWAIiq",
        "colab_type": "code",
        "outputId": "803e7b9b-a329-438e-cf32-35edaad1f382",
        "colab": {
          "base_uri": "https://localhost:8080/",
          "height": 34
        }
      },
      "source": [
        "from google.colab import drive\n",
        "drive.mount('/content/drive')"
      ],
      "execution_count": 0,
      "outputs": [
        {
          "output_type": "stream",
          "text": [
            "Drive already mounted at /content/drive; to attempt to forcibly remount, call drive.mount(\"/content/drive\", force_remount=True).\n"
          ],
          "name": "stdout"
        }
      ]
    },
    {
      "cell_type": "code",
      "metadata": {
        "id": "vHHS5i-ZB1Ih",
        "colab_type": "code",
        "outputId": "72ed064a-5abe-4112-8cf3-de73110dc77c",
        "colab": {
          "base_uri": "https://localhost:8080/",
          "height": 34
        }
      },
      "source": [
        "%cd /content/drive/My\\ Drive/Multitask/"
      ],
      "execution_count": 0,
      "outputs": [
        {
          "output_type": "stream",
          "text": [
            "/content/drive/My Drive/Multitask\n"
          ],
          "name": "stdout"
        }
      ]
    },
    {
      "cell_type": "code",
      "metadata": {
        "id": "mfCIFTWyB3Wi",
        "colab_type": "code",
        "outputId": "c5b4d832-4111-4966-c8e7-b352eb08abc0",
        "colab": {
          "base_uri": "https://localhost:8080/",
          "height": 63
        }
      },
      "source": [
        "import model\n",
        "import tensorflow as tf"
      ],
      "execution_count": 0,
      "outputs": [
        {
          "output_type": "display_data",
          "data": {
            "text/html": [
              "<p style=\"color: red;\">\n",
              "The default version of TensorFlow in Colab will soon switch to TensorFlow 2.x.<br>\n",
              "We recommend you <a href=\"https://www.tensorflow.org/guide/migrate\" target=\"_blank\">upgrade</a> now \n",
              "or ensure your notebook will continue to use TensorFlow 1.x via the <code>%tensorflow_version 1.x</code> magic:\n",
              "<a href=\"https://colab.research.google.com/notebooks/tensorflow_version.ipynb\" target=\"_blank\">more info</a>.</p>\n"
            ],
            "text/plain": [
              "<IPython.core.display.HTML object>"
            ]
          },
          "metadata": {
            "tags": []
          }
        }
      ]
    },
    {
      "cell_type": "code",
      "metadata": {
        "id": "VVNEMzrDB91H",
        "colab_type": "code",
        "outputId": "69b815f3-6064-43ff-83f9-687278bb5a51",
        "colab": {
          "base_uri": "https://localhost:8080/",
          "height": 442
        }
      },
      "source": [
        "sess = tf.compat.v1.Session()\n",
        "multitask_model = model.Model(session=sess, trainable=False)"
      ],
      "execution_count": 0,
      "outputs": [
        {
          "output_type": "stream",
          "text": [
            "WARNING:tensorflow:From /content/drive/My Drive/Multitask/utils.py:48: where (from tensorflow.python.ops.array_ops) is deprecated and will be removed in a future version.\n",
            "Instructions for updating:\n",
            "Use tf.where in 2.0, which has the same broadcast rule as np.where\n",
            "WARNING:tensorflow:From /content/drive/My Drive/Multitask/utils.py:83: The name tf.nn.max_pool is deprecated. Please use tf.nn.max_pool2d instead.\n",
            "\n",
            "WARNING:tensorflow:From /content/drive/My Drive/Multitask/utils.py:79: calling dropout (from tensorflow.python.ops.nn_ops) with keep_prob is deprecated and will be removed in a future version.\n",
            "Instructions for updating:\n",
            "Please use `rate` instead of `keep_prob`. Rate should be set to `rate = 1 - keep_prob`.\n",
            "==================================================================\n",
            "\n",
            "Loading smile image datasets.....\n",
            "Done! \n",
            "Number of smile test data:  1000\n",
            "==================================================================\n",
            "\n",
            "Loading age image datasets.....\n",
            "Done!\n",
            "Number of age test data:  15840\n",
            "==================================================================\n",
            "\n",
            "Loading gender image datasets.....\n",
            "Done!\n",
            "Number of gender test data:  15840\n",
            "Reading model parameters from %s checkpoints/26022020/model.ckpt\n",
            "INFO:tensorflow:Restoring parameters from checkpoints/26022020/model.ckpt\n"
          ],
          "name": "stdout"
        }
      ]
    },
    {
      "cell_type": "code",
      "metadata": {
        "id": "Lu7xT41kCH8R",
        "colab_type": "code",
        "outputId": "2491ed4c-048c-45bf-dca4-fc7799c793a6",
        "colab": {
          "base_uri": "https://localhost:8080/",
          "height": 102
        }
      },
      "source": [
        "multitask_model.test()"
      ],
      "execution_count": 0,
      "outputs": [
        {
          "output_type": "stream",
          "text": [
            "\n",
            "Result: \n",
            "Smile task test accuracy: 92.80000000000001\n",
            "Gender task test accuracy: 93.57954545454545\n",
            "Age task test accuracy: 61.36363636363637\n"
          ],
          "name": "stdout"
        }
      ]
    }
  ]
}